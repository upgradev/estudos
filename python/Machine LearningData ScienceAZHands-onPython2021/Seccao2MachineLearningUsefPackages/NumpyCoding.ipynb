{
 "cells": [
  {
   "cell_type": "markdown",
   "metadata": {},
   "source": [
    "# numpy coding"
   ]
  },
  {
   "cell_type": "code",
   "execution_count": 7,
   "metadata": {},
   "outputs": [],
   "source": [
    "import numpy as np"
   ]
  },
  {
   "cell_type": "code",
   "execution_count": 8,
   "metadata": {},
   "outputs": [
    {
     "name": "stdout",
     "output_type": "stream",
     "text": [
      "[[1 2 3]\n",
      " [4 6 7]]\n"
     ]
    }
   ],
   "source": [
    "NumP_Array = np.array([[1, 2, 3], [4, 6, 7]])\n",
    "print(NumP_Array)\n"
   ]
  },
  {
   "cell_type": "code",
   "execution_count": 9,
   "metadata": {},
   "outputs": [
    {
     "name": "stdout",
     "output_type": "stream",
     "text": [
      "NP1: [[1 3]\n",
      " [4 5]]\n",
      "NP2: [[3 4]\n",
      " [5 7]]\n",
      "MNP NP1@NP2: [[18 25]\n",
      " [37 51]]\n",
      "MNP3 np.dot(NP1, NP2): [[18 25]\n",
      " [37 51]]\n",
      "MNP2 NP1*NP2: [[ 3 12]\n",
      " [20 35]]\n",
      "MNP4 np.multiply(NP1, NP2): [[ 3 12]\n",
      " [20 35]]\n"
     ]
    }
   ],
   "source": [
    "NP1 = np.array([[1, 3], [4, 5]])\n",
    "print(f\"NP1: {NP1}\")\n",
    "NP2 = np.array([[3, 4], [5, 7]])\n",
    "print(f\"NP2: {NP2}\")\n",
    "# 1 3 | 3 4\n",
    "# 4 5 | 5 7\n",
    "# Multiply row - column 1*3 + 3*5\n",
    "MNP = NP1@NP2\n",
    "print(f\"MNP NP1@NP2: {MNP}\")\n",
    "\n",
    "# Multiply row - column 1*3 + 3*5\n",
    "MNP3 = np.dot(NP1, NP2)\n",
    "print(f\"MNP3 np.dot(NP1, NP2): {MNP3}\")\n",
    "\n",
    "# multiply row - row 1*3 | 3 * 4\n",
    "MNP2 = NP1*NP2\n",
    "print(f\"MNP2 NP1*NP2: {MNP2}\")\n",
    "\n",
    "# multiply row - row 1*3 | 3 * 4\n",
    "MNP4 = np.multiply(NP1, NP2)\n",
    "print(f\"MNP4 np.multiply(NP1, NP2): {MNP4}\")\n"
   ]
  },
  {
   "cell_type": "code",
   "execution_count": 10,
   "metadata": {},
   "outputs": [
    {
     "name": "stdout",
     "output_type": "stream",
     "text": [
      "Sum NP1 + NP2: [[ 4  7]\n",
      " [ 9 12]]\n",
      "Sub1 NP1 - NP2: [[-2 -1]\n",
      " [-1 -2]]\n",
      "Sub2 np.subtract(NP1, NP2): [[-2 -1]\n",
      " [-1 -2]]\n",
      "El_Sum np.sum(NP1): 13\n",
      "Broad_Nump: [[4 6]\n",
      " [7 8]]\n",
      "np1+np3: [[4 7]\n",
      " [7 9]]\n"
     ]
    }
   ],
   "source": [
    "# 1 3 | 3 4\n",
    "# 4 5 | 5 7\n",
    "# sum row 1 + 3 | 3 + 4\n",
    "Sum1 = NP1 + NP2\n",
    "print(f\"Sum NP1 + NP2: {Sum1}\")\n",
    "\n",
    "# sub row 1 - 3 | 3 - 4\n",
    "Sub1 = NP1 - NP2\n",
    "print(f\"Sub1 NP1 - NP2: {Sub1}\")\n",
    "Sub2 = np.subtract(NP1, NP2)\n",
    "print(f\"Sub2 np.subtract(NP1, NP2): {Sub2}\")\n",
    "# sum all elements array\n",
    "El_Sum = np.sum(NP1)\n",
    "print(f\"El_Sum np.sum(NP1): {El_Sum}\")\n",
    "\n",
    "Broad_Nump = NP1 + 3\n",
    "print(f\"Broad_Nump: {Broad_Nump}\")\n",
    "\n",
    "NP3 = np.array([[3,4]])\n",
    "print(f\"np1+np3: {NP1 + NP3}\")"
   ]
  },
  {
   "cell_type": "code",
   "execution_count": 13,
   "metadata": {},
   "outputs": [
    {
     "name": "stdout",
     "output_type": "stream",
     "text": [
      "np.divide([12, 14, 16], 5) = [2.4 2.8 3.2]\n",
      "D = [2 2 3]\n",
      "3.1622776601683795\n"
     ]
    }
   ],
   "source": [
    "D = np.divide([12, 14, 16], 5)\n",
    "print(f\"np.divide([12, 14, 16], 5) = {D}\")\n",
    "\n",
    "D = np.floor_divide([12, 14, 16], 5)\n",
    "print(f\"D = {D}\")\n",
    "\n",
    "print(np.math.sqrt(10))"
   ]
  },
  {
   "cell_type": "code",
   "execution_count": 24,
   "metadata": {},
   "outputs": [
    {
     "name": "stdout",
     "output_type": "stream",
     "text": [
      "Normal distribution:  [[ 1.78110523 -0.19083346  0.47250494  0.8059946 ]\n",
      " [ 0.16091464 -0.06392602  1.54895613  2.00860277]\n",
      " [-0.76655829  1.3532093  -1.01763656  0.6353455 ]]\n",
      "\n",
      "UD:  [[1.68476225 5.85120359 1.91805657 3.45917319]\n",
      " [4.3382014  4.45014941 4.08738986 7.71122825]\n",
      " [3.42587173 2.35073715 6.91700401 2.41655138]]\n",
      "\n",
      "rand:  0.3546811365342848\n",
      "\n",
      "randint:  [[27 35 42 38 28]\n",
      " [22 17 17 49 12]]\n",
      "\n"
     ]
    }
   ],
   "source": [
    "ND = np.random.standard_normal((3,4))\n",
    "print(\"Normal distribution: \", ND)\n",
    "print()\n",
    "UD = np.random.uniform(1,12,(3,4))\n",
    "print(\"UD: \", UD)\n",
    "print()\n",
    "print(\"rand: \", np.random.rand())\n",
    "print()\n",
    "Random_arr = np.random.randint(1, 50, (2,5))\n",
    "print(\"randint: \", Random_arr)\n",
    "print()"
   ]
  },
  {
   "cell_type": "code",
   "execution_count": 30,
   "metadata": {},
   "outputs": [
    {
     "name": "stdout",
     "output_type": "stream",
     "text": [
      "Zeros:  [[0. 0. 0. 0.]\n",
      " [0. 0. 0. 0.]\n",
      " [0. 0. 0. 0.]]\n",
      "\n",
      "Ones:  [[1. 1. 1. 1.]\n",
      " [1. 1. 1. 1.]\n",
      " [1. 1. 1. 1.]]\n",
      "\n",
      "[[27 35 42 38 28]\n",
      " [22 17 17 49 12]]\n",
      "logical_and:  [[False  True  True  True False]\n",
      " [False False False  True False]]\n",
      "Trues:  [35 42 38 49]\n"
     ]
    }
   ],
   "source": [
    "Ze = np.zeros((3,4))\n",
    "print(\"Zeros: \", Ze)\n",
    "print()\n",
    "Ones = np.ones((3,4))\n",
    "print(\"Ones: \",Ones)\n",
    "print()\n",
    "\n",
    "Filter_Ar = np.logical_and(Random_arr > 30, Random_arr < 50)\n",
    "print(Random_arr)\n",
    "print(\"logical_and: \", Filter_Ar)\n",
    "\n",
    "F_Random_Ar = Random_arr[Filter_Ar]\n",
    "print(\"Trues: \", F_Random_Ar)\n"
   ]
  },
  {
   "cell_type": "code",
   "execution_count": 39,
   "metadata": {},
   "outputs": [
    {
     "name": "stdout",
     "output_type": "stream",
     "text": [
      "Data_N:  [1 3 4 5 7 9]\n",
      "Mean:  4.833333333333333\n",
      "Median:  4.5\n",
      "Var_N:  6.805555555555556\n",
      "Standar desviation:  2.608745973749755\n"
     ]
    }
   ],
   "source": [
    "Data_N = np.array([1,3,4,5,7,9])\n",
    "print(\"Data_N: \", Data_N)\n",
    "Mean_N = np.mean(Data_N)\n",
    "print(\"Mean: \", Mean_N)\n",
    "Median_N = np.median(Data_N)\n",
    "print(\"Median: \", Median_N)\n",
    "Var_N = np.var(Data_N)\n",
    "print(\"Var_N: \", Var_N)\n",
    "SD = np.std(Data_N)\n",
    "print(\"Standar desviation: \", SD)\n"
   ]
  },
  {
   "cell_type": "code",
   "execution_count": 43,
   "metadata": {},
   "outputs": [
    {
     "name": "stdout",
     "output_type": "stream",
     "text": [
      "[[1 2 3]\n",
      " [4 6 7]]\n",
      "[0.66666667 1.55555556]\n",
      "[2.25 4.   4.  ]\n"
     ]
    }
   ],
   "source": [
    "NumP_Array = np.array([[1, 2, 3], [4, 6, 7]])\n",
    "print(NumP_Array)\n",
    "Var_Nump = np.var(NumP_Array, axis=1)\n",
    "print(Var_Nump)\n",
    "Var_Nump2 = np.var(NumP_Array, axis=0)\n",
    "print(Var_Nump2)"
   ]
  }
 ],
 "metadata": {
  "interpreter": {
   "hash": "916dbcbb3f70747c44a77c7bcd40155683ae19c65e1c03b4aa3499c5328201f1"
  },
  "kernelspec": {
   "display_name": "Python 3.8.10 64-bit",
   "language": "python",
   "name": "python3"
  },
  "language_info": {
   "codemirror_mode": {
    "name": "ipython",
    "version": 3
   },
   "file_extension": ".py",
   "mimetype": "text/x-python",
   "name": "python",
   "nbconvert_exporter": "python",
   "pygments_lexer": "ipython3",
   "version": "3.8.10"
  },
  "orig_nbformat": 4
 },
 "nbformat": 4,
 "nbformat_minor": 2
}
