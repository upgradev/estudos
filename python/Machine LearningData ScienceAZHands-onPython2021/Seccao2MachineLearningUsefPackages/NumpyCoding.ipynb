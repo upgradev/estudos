{
 "cells": [
  {
   "cell_type": "markdown",
   "metadata": {},
   "source": [
    "# numpy coding"
   ]
  },
  {
   "cell_type": "code",
   "execution_count": 2,
   "metadata": {},
   "outputs": [],
   "source": [
    "import numpy as np"
   ]
  },
  {
   "cell_type": "code",
   "execution_count": 6,
   "metadata": {},
   "outputs": [],
   "source": [
    "NumP_Array = np.array([[1, 2, 3], [4, 6, 7]])\n"
   ]
  },
  {
   "cell_type": "code",
   "execution_count": 27,
   "metadata": {},
   "outputs": [
    {
     "name": "stdout",
     "output_type": "stream",
     "text": [
      "NP1: [[1 3]\n",
      " [4 5]]\n",
      "NP2: [[3 4]\n",
      " [5 7]]\n",
      "MNP NP1@NP2: [[18 25]\n",
      " [37 51]]\n",
      "MNP3 np.dot(NP1, NP2): [[18 25]\n",
      " [37 51]]\n",
      "MNP2 NP1*NP2: [[ 3 12]\n",
      " [20 35]]\n",
      "MNP4 np.multiply(NP1, NP2): [[ 3 12]\n",
      " [20 35]]\n"
     ]
    }
   ],
   "source": [
    "NP1 = np.array([[1, 3], [4, 5]])\n",
    "print(f\"NP1: {NP1}\")\n",
    "NP2 = np.array([[3, 4], [5, 7]])\n",
    "print(f\"NP2: {NP2}\")\n",
    "# 1 3 | 3 4\n",
    "# 4 5 | 5 7\n",
    "# Multiply row - column 1*3 + 3*5\n",
    "MNP = NP1@NP2\n",
    "print(f\"MNP NP1@NP2: {MNP}\")\n",
    "\n",
    "# Multiply row - column 1*3 + 3*5\n",
    "MNP3 = np.dot(NP1, NP2)\n",
    "print(f\"MNP3 np.dot(NP1, NP2): {MNP3}\")\n",
    "\n",
    "# multiply row - row 1*3 | 3 * 4\n",
    "MNP2 = NP1*NP2\n",
    "print(f\"MNP2 NP1*NP2: {MNP2}\")\n",
    "\n",
    "# multiply row - row 1*3 | 3 * 4\n",
    "MNP4 = np.multiply(NP1, NP2)\n",
    "print(f\"MNP4 np.multiply(NP1, NP2): {MNP4}\")\n"
   ]
  },
  {
   "cell_type": "code",
   "execution_count": 30,
   "metadata": {},
   "outputs": [
    {
     "name": "stdout",
     "output_type": "stream",
     "text": [
      "Sum NP1 + NP2: [[ 4  7]\n",
      " [ 9 12]]\n",
      "Sub1 NP1 - NP2: [[-2 -1]\n",
      " [-1 -2]]\n",
      "Sub2 np.subtract(NP1, NP2): [[-2 -1]\n",
      " [-1 -2]]\n",
      "El_Sum np.sum(NP1): 13\n",
      "Broad_Nump: [[4 6]\n",
      " [7 8]]\n",
      "np1+np3: [[4 7]\n",
      " [7 9]]\n"
     ]
    }
   ],
   "source": [
    "# 1 3 | 3 4\n",
    "# 4 5 | 5 7\n",
    "# sum row 1 + 3 | 3 + 4\n",
    "Sum1 = NP1 + NP2\n",
    "print(f\"Sum NP1 + NP2: {Sum1}\")\n",
    "\n",
    "# sub row 1 - 3 | 3 - 4\n",
    "Sub1 = NP1 - NP2\n",
    "print(f\"Sub1 NP1 - NP2: {Sub1}\")\n",
    "Sub2 = np.subtract(NP1, NP2)\n",
    "print(f\"Sub2 np.subtract(NP1, NP2): {Sub2}\")\n",
    "# sum all elements array\n",
    "El_Sum = np.sum(NP1)\n",
    "print(f\"El_Sum np.sum(NP1): {El_Sum}\")\n",
    "\n",
    "Broad_Nump = NP1 + 3\n",
    "print(f\"Broad_Nump: {Broad_Nump}\")\n",
    "\n",
    "NP3 = np.array([[3,4]])\n",
    "print(f\"np1+np3: {NP1 + NP3}\")"
   ]
  },
  {
   "cell_type": "code",
   "execution_count": null,
   "metadata": {},
   "outputs": [],
   "source": []
  }
 ],
 "metadata": {
  "interpreter": {
   "hash": "916dbcbb3f70747c44a77c7bcd40155683ae19c65e1c03b4aa3499c5328201f1"
  },
  "kernelspec": {
   "display_name": "Python 3.8.10 64-bit",
   "language": "python",
   "name": "python3"
  },
  "language_info": {
   "codemirror_mode": {
    "name": "ipython",
    "version": 3
   },
   "file_extension": ".py",
   "mimetype": "text/x-python",
   "name": "python",
   "nbconvert_exporter": "python",
   "pygments_lexer": "ipython3",
   "version": "3.8.10"
  },
  "orig_nbformat": 4
 },
 "nbformat": 4,
 "nbformat_minor": 2
}
