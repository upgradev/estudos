{
 "cells": [
  {
   "cell_type": "markdown",
   "metadata": {},
   "source": [
    "# Pandas"
   ]
  },
  {
   "cell_type": "code",
   "execution_count": 27,
   "metadata": {},
   "outputs": [],
   "source": [
    "import pandas as pd"
   ]
  },
  {
   "cell_type": "markdown",
   "metadata": {},
   "source": [
    "# Series"
   ]
  },
  {
   "cell_type": "code",
   "execution_count": 28,
   "metadata": {},
   "outputs": [],
   "source": [
    "Age = pd.Series([10,20,30,40], index=[\"age1\", \"age2\", \"age3\", \"age4\"])\n",
    "Age.age3\n",
    "Filtered_Age = Age[Age > 20]\n",
    "Age.index = [\"A1\", \"A2\", \"A3\", \"A4\"]\n"
   ]
  },
  {
   "cell_type": "markdown",
   "metadata": {},
   "source": [
    "# DataFrame"
   ]
  },
  {
   "cell_type": "code",
   "execution_count": 29,
   "metadata": {},
   "outputs": [],
   "source": [
    "import numpy as np"
   ]
  },
  {
   "cell_type": "code",
   "execution_count": 38,
   "metadata": {},
   "outputs": [],
   "source": [
    "DF = np.array([[20, 10, 8], [25, 8, 10], [27, 5, 3], [30, 9, 7]])\n",
    "Data_Set = pd.DataFrame(DF)\n",
    "# insert label index\n",
    "Data_Set = pd.DataFrame(DF, index=[\"S1\", \"S2\", \"S3\", \"S4\"])\n",
    "# insert label column\n",
    "Data_Set = pd.DataFrame(DF, index=[\"S1\", \"S2\", \"S3\", \"S4\"], columns=[\n",
    "                        \"Age\", \"Grade1\", \"Grade2\"])\n",
    "# include new column\n",
    "Data_Set[\"Grade3\"] = [9, 6, 7, 10]\n",
    "\n",
    "# acess row by label\n",
    "A = Data_Set.loc[\"S2\"]\n",
    "# acess row by index row column\n",
    "B = Data_Set.iloc[1][3]\n",
    "C = Data_Set.iloc[1, 3]\n",
    "# acess row by column 0\n",
    "D = Data_Set.iloc[:, 0]\n",
    "# acess row by column 3\n",
    "E = Data_Set.iloc[:, 3]\n",
    "\n",
    "Filtered_Data = Data_Set.iloc[:, 1:3]\n",
    "\n",
    "# drop column\n",
    "# Data_Set = Data_Set.drop(\"Grade1\", axis=1)\n",
    "\n",
    "# replace number in the table\n",
    "Data_Set = Data_Set.replace(10, 12)\n",
    "# replace number in the table more values\n",
    "Data_Set = Data_Set.replace({12: 10, 9: 30})\n",
    "\n",
    "head = Data_Set.head(3)\n",
    "tail = Data_Set.tail(2)\n",
    "\n",
    "# order\n",
    "Data_Set.sort_values(by=[\"Grade1\"], ascending=True)\n",
    "\n",
    "# order index S1, S2,S3,S4\n",
    "Data_Set.sort_index(axis=0, ascending=False)\n",
    "\n",
    "Data = pd.read_csv(\"./Data_Set.csv\")\n",
    "\n"
   ]
  },
  {
   "cell_type": "code",
   "execution_count": null,
   "metadata": {},
   "outputs": [],
   "source": []
  }
 ],
 "metadata": {
  "interpreter": {
   "hash": "31f2aee4e71d21fbe5cf8b01ff0e069b9275f58929596ceb00d14d90e3e16cd6"
  },
  "kernelspec": {
   "display_name": "Python 3.8.10 64-bit",
   "language": "python",
   "name": "python3"
  },
  "language_info": {
   "codemirror_mode": {
    "name": "ipython",
    "version": 3
   },
   "file_extension": ".py",
   "mimetype": "text/x-python",
   "name": "python",
   "nbconvert_exporter": "python",
   "pygments_lexer": "ipython3",
   "version": "3.8.10"
  },
  "orig_nbformat": 4
 },
 "nbformat": 4,
 "nbformat_minor": 2
}
