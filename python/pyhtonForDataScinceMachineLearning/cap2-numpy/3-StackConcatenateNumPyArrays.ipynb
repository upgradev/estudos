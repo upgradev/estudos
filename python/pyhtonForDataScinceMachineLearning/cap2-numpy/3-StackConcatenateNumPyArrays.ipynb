{
 "cells": [
  {
   "cell_type": "code",
   "execution_count": 3,
   "source": [
    "import numpy as np"
   ],
   "outputs": [],
   "metadata": {}
  },
  {
   "cell_type": "code",
   "execution_count": 4,
   "source": [
    "a = np.arange(0,5)\n",
    "b = np.arange(5, 10)\n",
    "print(\"Array 1\",\"\\n\",a)\n",
    "print(\"Array 2\",\"\\n\",b)\n",
    "print(\"vertical stacking:\",\"\\n\", np.vstack((a,b)))\n",
    "print(\"horizontal stacking:\",\"\\n\", np.hstack((a,b)))"
   ],
   "outputs": [
    {
     "output_type": "stream",
     "name": "stdout",
     "text": [
      "Array 1 \n",
      " [0 1 2 3 4]\n",
      "Array 2 \n",
      " [5 6 7 8 9]\n",
      "vertical stacking: \n",
      " [[0 1 2 3 4]\n",
      " [5 6 7 8 9]]\n",
      "horizontal stacking: \n",
      " [0 1 2 3 4 5 6 7 8 9]\n"
     ]
    }
   ],
   "metadata": {}
  },
  {
   "cell_type": "code",
   "execution_count": null,
   "source": [],
   "outputs": [],
   "metadata": {}
  }
 ],
 "metadata": {
  "orig_nbformat": 4,
  "language_info": {
   "name": "python",
   "version": "3.8.10",
   "mimetype": "text/x-python",
   "codemirror_mode": {
    "name": "ipython",
    "version": 3
   },
   "pygments_lexer": "ipython3",
   "nbconvert_exporter": "python",
   "file_extension": ".py"
  },
  "kernelspec": {
   "name": "python3",
   "display_name": "Python 3.8.10 64-bit"
  },
  "interpreter": {
   "hash": "916dbcbb3f70747c44a77c7bcd40155683ae19c65e1c03b4aa3499c5328201f1"
  }
 },
 "nbformat": 4,
 "nbformat_minor": 2
}