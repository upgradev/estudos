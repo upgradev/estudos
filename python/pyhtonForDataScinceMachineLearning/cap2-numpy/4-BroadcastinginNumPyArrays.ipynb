{
 "cells": [
  {
   "cell_type": "code",
   "execution_count": 1,
   "source": [
    "import numpy as np"
   ],
   "outputs": [],
   "metadata": {}
  },
  {
   "cell_type": "code",
   "execution_count": 2,
   "source": [
    "a = np.arange(10, 20, 2)\n",
    "b = np.array([[2], [2]])\n",
    "print(\"a: \", a)\n",
    "print(\"b: \", b)\n",
    "print(\"adding tow different size arrays: \",\"\\n\",a+b)\n",
    "print(\"multiplying a ndarray and a number: \",\"\\n\",a * 2)"
   ],
   "outputs": [
    {
     "output_type": "stream",
     "name": "stdout",
     "text": [
      "a:  [10 12 14 16 18]\n",
      "b:  [[2]\n",
      " [2]]\n",
      "adding tow different size arrays:  \n",
      " [[12 14 16 18 20]\n",
      " [12 14 16 18 20]]\n",
      "multiplying a ndarray and a number:  \n",
      " [20 24 28 32 36]\n"
     ]
    }
   ],
   "metadata": {}
  }
 ],
 "metadata": {
  "orig_nbformat": 4,
  "language_info": {
   "name": "python",
   "version": "3.8.10",
   "mimetype": "text/x-python",
   "codemirror_mode": {
    "name": "ipython",
    "version": 3
   },
   "pygments_lexer": "ipython3",
   "nbconvert_exporter": "python",
   "file_extension": ".py"
  },
  "kernelspec": {
   "name": "python3",
   "display_name": "Python 3.8.10 64-bit"
  },
  "interpreter": {
   "hash": "31f2aee4e71d21fbe5cf8b01ff0e069b9275f58929596ceb00d14d90e3e16cd6"
  }
 },
 "nbformat": 4,
 "nbformat_minor": 2
}