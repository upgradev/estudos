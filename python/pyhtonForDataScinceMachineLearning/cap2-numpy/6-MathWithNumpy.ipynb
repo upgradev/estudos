{
 "cells": [
  {
   "cell_type": "code",
   "execution_count": 9,
   "source": [
    "import numpy as np"
   ],
   "outputs": [],
   "metadata": {}
  },
  {
   "cell_type": "markdown",
   "source": [
    "# Mean, Median and Standard Deviation\n"
   ],
   "metadata": {}
  },
  {
   "cell_type": "code",
   "execution_count": 7,
   "source": [
    "a = np.arange(5, 15, 2)\n",
    "print(\"Array \", a)\n",
    "print(f\"Mean {np.mean(a)}\")\n",
    "print(f\"Standard deviation {np.std(a)}\")\n",
    "print(f\"Median: {np.median(a)}\")"
   ],
   "outputs": [
    {
     "output_type": "stream",
     "name": "stdout",
     "text": [
      "Array  [ 5  7  9 11 13]\n",
      "Mean 9.0\n",
      "Standard deviation 2.8284271247461903\n",
      "Median: 9.0\n"
     ]
    }
   ],
   "metadata": {}
  },
  {
   "cell_type": "markdown",
   "source": [
    "# min max value and their index\n"
   ],
   "metadata": {}
  },
  {
   "cell_type": "code",
   "execution_count": 26,
   "source": [
    "a = np.array([[1, 6], [4, 3]])\n",
    "print(f\"Array: {a}\")\n",
    "print(f\"Min: {np.min(a, axis=0)}\")\n",
    "print(f\"Max: {np.max(a, axis=0)}\")\n"
   ],
   "outputs": [
    {
     "output_type": "stream",
     "name": "stdout",
     "text": [
      "Array: [[1 6]\n",
      " [4 3]]\n",
      "Min: [1 3]\n",
      "Max: [4 6]\n"
     ]
    }
   ],
   "metadata": {}
  },
  {
   "cell_type": "code",
   "execution_count": 25,
   "source": [
    "a = np.array([[1, 6, 5], [4, 3, 7]])\n",
    "print(f\"Array: {a}\")\n",
    "print(f\"Arg Min: {np.argmin(a, axis=0)} \")\n",
    "print(f\"Arg Max: {np.argmax(a, axis=1)}\")\n"
   ],
   "outputs": [
    {
     "output_type": "stream",
     "name": "stdout",
     "text": [
      "Array: [[1 6 5]\n",
      " [4 3 7]]\n",
      "Arg Min: [0 1 0] \n",
      "Arg Max: [1 2]\n"
     ]
    }
   ],
   "metadata": {}
  },
  {
   "cell_type": "markdown",
   "source": [
    "# The Sorting Operation"
   ],
   "metadata": {}
  },
  {
   "cell_type": "code",
   "execution_count": 21,
   "source": [
    "a = np.array([1, 4, 2, 5, 3, 6, 8, 7, 9])\n",
    "print(f\"Array before {a}\")\n",
    "print(f\"quicksort: {np.sort(a, kind='quicksort')}\")\n"
   ],
   "outputs": [
    {
     "output_type": "stream",
     "name": "stdout",
     "text": [
      "Array before [1 4 2 5 3 6 8 7 9]\n",
      "quicksort: [1 2 3 4 5 6 7 8 9]\n"
     ]
    }
   ],
   "metadata": {}
  },
  {
   "cell_type": "code",
   "execution_count": 24,
   "source": [
    "a = np.array([[5, 6, 7, 4], [9, 2, 3, 7]])\n",
    "print(f\"Before: {a}\")\n",
    "print('Sort along column :','\\n',np.sort(a, kind='mergresort',axis=1))"
   ],
   "outputs": [
    {
     "output_type": "stream",
     "name": "stdout",
     "text": [
      "Before: [[5 6 7 4]\n",
      " [9 2 3 7]]\n",
      "Sort along column : \n",
      " [[4 5 6 7]\n",
      " [2 3 7 9]]\n"
     ]
    }
   ],
   "metadata": {}
  },
  {
   "cell_type": "code",
   "execution_count": null,
   "source": [],
   "outputs": [],
   "metadata": {}
  }
 ],
 "metadata": {
  "orig_nbformat": 4,
  "language_info": {
   "name": "python",
   "version": "3.8.10",
   "mimetype": "text/x-python",
   "codemirror_mode": {
    "name": "ipython",
    "version": 3
   },
   "pygments_lexer": "ipython3",
   "nbconvert_exporter": "python",
   "file_extension": ".py"
  },
  "kernelspec": {
   "name": "python3",
   "display_name": "Python 3.8.10 64-bit"
  },
  "interpreter": {
   "hash": "916dbcbb3f70747c44a77c7bcd40155683ae19c65e1c03b4aa3499c5328201f1"
  }
 },
 "nbformat": 4,
 "nbformat_minor": 2
}